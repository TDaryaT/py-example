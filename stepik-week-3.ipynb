{
 "cells": [
  {
   "cell_type": "markdown",
   "metadata": {},
   "source": [
    "Напишите функцию f(x), которая возвращает значение следующей функции, определённой на всей числовой прямой:\n",
    "\n",
    "\\begin{equation}\n",
    "f(x)= \\begin{cases}   1 - (x + 2)^2,\\quad &\\text{при } x\\le -2\\\\  -\\frac x2 ,\\quad &\\text{при } -2 \\lt x \\le 2\\\\   (x-2)^2 + 1,\\quad &\\text{при } 2 \\lt x \\end{cases}\n",
    "\\end{equation} \n",
    "\n",
    "Требуется реализовать только функцию, решение не должно осуществлять операций ввода-вывода."
   ]
  },
  {
   "cell_type": "code",
   "execution_count": 1,
   "metadata": {},
   "outputs": [
    {
     "name": "stdout",
     "output_type": "stream",
     "text": [
      "-0.5\n"
     ]
    }
   ],
   "source": [
    "def f (x):\n",
    "    if (x <= -2):\n",
    "        return 1 - (x+2)**2\n",
    "    elif (-2 < x <= 2):\n",
    "        return -x/2\n",
    "    else:\n",
    "        return (x-2)**2 + 1\n",
    "print(f(1))"
   ]
  },
  {
   "cell_type": "markdown",
   "metadata": {},
   "source": [
    "Напишите функцию modify_list(l), которая принимает на вход список целых чисел, удаляет из него все нечётные значения, а чётные нацело делит на два. Функция не должна ничего возвращать, требуется только изменение переданного списка, например:\n",
    "```\n",
    "lst = [1, 2, 3, 4, 5, 6]\n",
    "print(modify_list(lst))  # None\n",
    "print(lst)               # [1, 2, 3]\n",
    "modify_list(lst)\n",
    "print(lst)               # [1]\n",
    "\n",
    "lst = [10, 5, 8, 3]\n",
    "modify_list(lst)\n",
    "print(lst)               # [5, 4]\n",
    "```\n",
    "Функция не должна осуществлять ввод/вывод информации."
   ]
  },
  {
   "cell_type": "code",
   "execution_count": 2,
   "metadata": {},
   "outputs": [
    {
     "name": "stdout",
     "output_type": "stream",
     "text": [
      "None\n",
      "[1, 2, 3]\n",
      "[1]\n",
      "[5, 4]\n"
     ]
    }
   ],
   "source": [
    "def modify_list(l):\n",
    "    cnt = len(l)            \n",
    "    for i in range(0,cnt):\n",
    "        elem = l.pop(0)\n",
    "        if elem % 2 == 0:\n",
    "             l.append(elem//2)\n",
    "        \n",
    "            \n",
    "lst = [1, 2, 3, 4, 5, 6]\n",
    "print(modify_list(lst))  # None\n",
    "print(lst)               # [1, 2, 3]\n",
    "modify_list(lst)\n",
    "print(lst)               # [1]\n",
    "\n",
    "lst = [10, 5, 8, 3]\n",
    "modify_list(lst)\n",
    "print(lst)               # [5, 4]"
   ]
  },
  {
   "cell_type": "markdown",
   "metadata": {},
   "source": [
    "Напишите функцию update_dictionary(d, key, value), которая принимает на вход словарь $d$ и два числа: $key$ и $value$.\n",
    "\n",
    "Если ключ $key$ есть в словаре $d$, то добавьте значение $value$ в список, который хранится по этому ключу.\n",
    "Если ключа $key$ нет в словаре, то нужно добавить значение в список по ключу $2 * key$. Если и ключа $2 * key$ нет, то нужно добавить ключ $2 * key$ в словарь и сопоставить ему список из переданного элемента $[value]$.\n",
    "\n",
    "Требуется реализовать только эту функцию, кода вне её не должно быть.\n",
    "Функция не должна вызывать внутри себя функции input и print.\n",
    "\n",
    "Пример работы функции:\n",
    "\n",
    "```\n",
    "d = {}\n",
    "print(update_dictionary(d, 1, -1))  # None\n",
    "print(d)                            # {2: [-1]}\n",
    "update_dictionary(d, 2, -2)\n",
    "print(d)                            # {2: [-1, -2]}\n",
    "update_dictionary(d, 1, -3)\n",
    "print(d)                            # {2: [-1, -2, -3]}\n",
    "```"
   ]
  },
  {
   "cell_type": "code",
   "execution_count": 3,
   "metadata": {},
   "outputs": [
    {
     "name": "stdout",
     "output_type": "stream",
     "text": [
      "None\n",
      "{2: [-1]}\n",
      "{2: [-1, -2]}\n",
      "{2: [-1, -2, -3]}\n"
     ]
    }
   ],
   "source": [
    "def update_dictionary(d, key, value):\n",
    "    if (d.get(key) == None):\n",
    "        key = 2 * key\n",
    "        if (d.get(key) == None):\n",
    "            d[key] = []\n",
    "    d[key].append(value)\n",
    "        \n",
    "d = {}\n",
    "print(update_dictionary(d, 1, -1))  # None\n",
    "print(d)                            # {2: [-1]}\n",
    "update_dictionary(d, 2, -2)\n",
    "print(d)                            # {2: [-1, -2]}\n",
    "update_dictionary(d, 1, -3)\n",
    "print(d)                            # {2: [-1, -2, -3]}"
   ]
  },
  {
   "cell_type": "markdown",
   "metadata": {},
   "source": [
    "Когда Антон прочитал «Войну и мир», ему стало интересно, сколько слов и в каком количестве используется в этой книге.\n",
    "\n",
    "Помогите Антону написать упрощённую версию такой программы, которая сможет подсчитать слова, разделённые пробелом и вывести получившуюся статистику.\n",
    "\n",
    "Программа должна считывать одну строку со стандартного ввода и выводить для каждого уникального слова в этой строке число его повторений (без учёта регистра) в формате \"слово количество\" (см. пример вывода).\n",
    "Порядок вывода слов может быть произвольным, каждое уникальное слово должно выводиться только один раз."
   ]
  },
  {
   "cell_type": "code",
   "execution_count": null,
   "metadata": {},
   "outputs": [],
   "source": [
    "inpt = input().split()\n",
    "s = {}\n",
    "for elem in inpt:\n",
    "    elem = elem.lower()\n",
    "    cnt = s.get(elem)\n",
    "    if (cnt == None):\n",
    "        cnt = 0\n",
    "        s[elem] = cnt\n",
    "    s[elem] += 1\n",
    "for key, value in s.items():\n",
    "    print(key, value)"
   ]
  },
  {
   "cell_type": "markdown",
   "metadata": {},
   "source": [
    "Напишите программу, которая считывает строку с числом $n$, которое задаёт количество чисел, которые нужно считать. Далее считывает $n$ строк с числами $x_i$, по одному числу в каждой строке. Итого будет $n+1$ строк.\n",
    "\n",
    "При считывании числа $x_i$ программа должна на отдельной строке вывести значение $f(x_i)$. Функция f(x) уже реализована и доступна для вызова. \n",
    "\n",
    "Функция вычисляется достаточно долго и зависит только от переданного аргумента $x$. Для того, чтобы уложиться в ограничение по времени, нужно избежать повторного вычисления значений."
   ]
  },
  {
   "cell_type": "code",
   "execution_count": null,
   "metadata": {},
   "outputs": [],
   "source": [
    "n = int(input())\n",
    "s = {}\n",
    "for i in range(0,n):\n",
    "    key = int(input())\n",
    "    value = s.get(key)\n",
    "    if (value = None):\n",
    "        s[key] = f(key)\n",
    "    print(s[key])"
   ]
  },
  {
   "cell_type": "markdown",
   "metadata": {},
   "source": [
    "На прошлой неделе мы сжимали строки, используя кодирование повторов. Теперь нашей задачей будет восстановление исходной строки обратно.\n",
    "\n",
    "Напишите программу, которая считывает из файла строку, соответствующую тексту, сжатому с помощью кодирования повторов, и производит обратную операцию, получая исходный текст.\n",
    "\n",
    "Запишите полученный текст в файл и прикрепите его, как ответ на это задание.\n",
    "\n",
    "В исходном тексте не встречаются цифры, так что код однозначно интерпретируем.\n",
    "\n",
    "Примечание. Это первое задание типа Dataset Quiz. В таких заданиях после нажатия \"Start Quiz\" у вас появляется ссылка \"download your dataset\". Используйте эту ссылку для того, чтобы загрузить файл со входными данными к себе на компьютер. Запустите вашу программу, используя этот файл в качестве входных данных. Выходной файл, который при этом у вас получится, надо отправить в качестве ответа на эту задачу."
   ]
  },
  {
   "cell_type": "code",
   "execution_count": 4,
   "metadata": {},
   "outputs": [
    {
     "name": "stdout",
     "output_type": "stream",
     "text": [
      "g14e16A17g5s8E1P7D7t20u15h1Q11f13J17p17n13X4h10I17w14j10B20K20L16e11x6h1L8t13A18D2l3a15s12D8i8z19k17K15a18Z13\n",
      "['g', 'e', 'A', 'g', 's', 'E', 'P', 'D', 't', 'u', 'h', 'Q', 'f', 'J', 'p', 'n', 'X', 'h', 'I', 'w', 'j', 'B', 'K', 'L', 'e', 'x', 'h', 'L', 't', 'A', 'D', 'l', 'a', 's', 'D', 'i', 'z', 'k', 'K', 'a', 'Z']\n",
      "['14', '16', '17', '5', '8', '1', '7', '7', '20', '15', '1', '11', '13', '17', '17', '13', '4', '10', '17', '14', '10', '20', '20', '16', '11', '6', '1', '8', '13', '18', '2', '3', '15', '12', '8', '8', '19', '17', '15', '18', '13']\n"
     ]
    }
   ],
   "source": [
    "import re\n",
    "nameFile = \"dataset_3363_2.txt\"\n",
    "with open(nameFile) as inf:\n",
    "    with open(nameFile+\"_out\",'w') as out:\n",
    "        for line in inf:\n",
    "            line = line.strip()\n",
    "            print(line)\n",
    "            chars = re.split(r'\\d+', line)\n",
    "            num = re.split(r'[a-zA-z]+', line)\n",
    "            chars.remove('')\n",
    "            num.remove('')\n",
    "            print(chars)\n",
    "            print(num)\n",
    "            cntNum = 0\n",
    "            for char in chars:\n",
    "                cnt = int(num[cntNum])\n",
    "                for i in range(0, cnt):\n",
    "                    out.write(char)\n",
    "                cntNum += 1"
   ]
  }
 ],
 "metadata": {
  "kernelspec": {
   "display_name": "Python 3",
   "language": "python",
   "name": "python3"
  },
  "language_info": {
   "codemirror_mode": {
    "name": "ipython",
    "version": 3
   },
   "file_extension": ".py",
   "mimetype": "text/x-python",
   "name": "python",
   "nbconvert_exporter": "python",
   "pygments_lexer": "ipython3",
   "version": "3.8.5"
  }
 },
 "nbformat": 4,
 "nbformat_minor": 4
}
